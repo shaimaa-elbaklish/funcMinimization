{
  "cells": [
    {
      "cell_type": "code",
      "execution_count": 2,
      "metadata": {
        "id": "PYJiN7auQkew"
      },
      "outputs": [],
      "source": [
        "import numpy as np"
      ]
    },
    {
      "cell_type": "markdown",
      "metadata": {},
      "source": [
        "## Benchmark Functions Available\n",
        "| Function | Dimension | Bounds | Optimal Function Value |\n",
        "| -------- | --------- | ------ | ---------------------- |\n",
        "| $$ f_{1} = 4x_1^2 - 2.1x_1^4 + \\frac{1}{3}x_1^6 + x_1 x_2 - 4x_2^2 + 4 x_2^4 $$ | 2 | [-5, 5] | -1.0316 |\n",
        "| $$ f_{2} = (x_2 - \\frac{5.1}{4\\pi^2}x_1^2 + \\frac{5}{\\pi}x_1 -6)^2 +10(1 - \\frac{1}{8\\pi})\\cos{x_1} + 10 $$ | 2 | [-5, 5] | 0.398 |\n",
        "| $$ f_{3} = -\\sum_{i=1}^{4} c_i exp(-\\sum_{j=1}^{3} a_{ij}(x_j - p_{ij})^2) $$ | 3 | [1, 3] | -3.86 |\n",
        "| $$ f_{4} = -\\sum_{i=1}^{4} c_i exp(-\\sum_{j=1}^{6} a_{ij}(x_j - p_{ij})^2) $$ | 6 | [0, 1] | -3.32 |\n",
        "| $$ f_{5} = -\\sum_{i=1}^{7} [(X - a_i)(X - a_i)^T + c_i]^{-1} $$ | 4 | [0, 10] | -10.4028 |"
      ]
    },
    {
      "cell_type": "code",
      "execution_count": 3,
      "metadata": {},
      "outputs": [],
      "source": [
        "class Function:\n",
        "    def __init__(self, x = None, n = 2, lb = np.array([-5, -5]), ub = np.array([5, 5])):\n",
        "        self.n_x = n\n",
        "        if x is not None:\n",
        "            assert(x.shape[0] == self.n_x)\n",
        "            self.fvalue = self.getFValue(x)\n",
        "        self.x = x\n",
        "        self.fvalue = None\n",
        "        assert(lb.shape[0] == self.n_x)\n",
        "        self.lb = lb\n",
        "        assert(ub.shape[0] == self.n_x)\n",
        "        self.ub = ub\n",
        "    \n",
        "    def setBenchmarkFunction(self, f_name = \"f1\"):\n",
        "        benchmarks = {\n",
        "            \"f1\": [2, np.array([-5, -5]), np.array([5, 5])],\n",
        "            \"f2\": [2, np.array([-5, -5]), np.array([5, 5])],\n",
        "            \"f3\": [3, 1*np.ones(shape=(3,)), 3*np.ones(shape=(3,))],\n",
        "            \"f4\": [6, np.zeros(shape=(6,)), 1*np.ones(shape=(6,))],\n",
        "            \"f5\": [4, np.zeros(shape=(4,)), 10*np.ones(shape=(4,))]\n",
        "        }\n",
        "        self.benchmark_selected = f_name\n",
        "        [self.n_x, self.lb, self.ub] = benchmarks.get(f_name, benchmarks.get(\"f1\"))\n",
        "    \n",
        "    def isFeasible(self, x):\n",
        "        return np.all(x >= self.lb) and np.all(x <= self.ub)\n",
        "    \n",
        "    def getFValue(self, x):\n",
        "        if self.benchmark_selected is None:\n",
        "            func_value = 4*x[0]**2 - 2.1*x[0]**4 + (x[0]**6)/3 + x[0]*x[1] - 4*x[1]**2 + 4*x[1]**4\n",
        "            return func_value\n",
        "        benchmarks_coeffs = {\n",
        "            \"f3\": {\"a\": np.array([[3, 10, 30], [0.1, 10, 35], [3, 10, 30], [0.1, 10, 35]]),\n",
        "                   \"c\": np.array([1, 1.2, 3, 3.2]),\n",
        "                   \"p\": np.array([[0.3689, 0.117, 0.2673], [0.4699, 0.4387, 0.747], [0.1091, 0.8732, 0.5547], [0.03815, 0.5743, 0.8828]])},\n",
        "            \"f4\": {\"a\": np.array([[10, 3, 17, 3.5, 1.7, 8], [0.05, 10, 17, 0.1, 8, 14], [3, 3.5, 1.7, 10, 17, 8], [17, 8, 0.05, 10, 0.1, 14]]),\n",
        "                   \"c\": np.array([1, 1.2, 3, 3.2]),\n",
        "                   \"p\": np.array([[0.1312, 0.1696, 0.5569, 0.0124, 0.8283, 0.5886], [0.2329, 0.4135, 0.8307, 0.3736, 0.1004, 0.9991], [0.2348, 0.1415, 0.3522, 0.2883, 0.3047, 0.6650], [0.4047, 0.8828, 0.8732, 0.5743, 0.1091, 0.0381]])},\n",
        "            \"f5\": {\"a\": np.array([[4, 4, 4, 4], [1, 1, 1, 1], [8, 8, 8, 8], [6, 6, 6, 6], [3, 7, 3, 7], [2, 9, 2, 9], [5, 5, 3, 3], [8, 1, 8, 1], [6, 2, 6, 2], [7, 3.6, 7, 3.6]]),\n",
        "                   \"c\": np.array([0.1, 0.2, 0.2, 0.4, 0.4, 0.6, 0.3, 0.7, 0.5, 0.5])}\n",
        "        }\n",
        "        benchmarks = {\n",
        "            \"f1\": lambda z: 4*z[0]**2 - 2.1*z[0]**4 + (z[0]**6)/3 + z[0]*z[1] - 4*z[1]**2 + 4*z[1]**4,\n",
        "            \"f2\": lambda z: (z[1] - (5.1/(4*np.pi**2))*z[0]**2 + (5/np.pi)*z[0] -6)**2 + 10*(1 - (1/(8*np.pi)))*np.cos(z[0]) + 10,\n",
        "            \"f3\": lambda z: -np.sum(benchmarks_coeffs[\"f3\"][\"c\"] * np.exp(-np.sum(list(map(lambda ai, pi: ai*(z - pi)**2, benchmarks_coeffs[\"f3\"][\"a\"], benchmarks_coeffs[\"f3\"][\"p\"])), axis=1))),\n",
        "            \"f4\": lambda z: -np.sum(benchmarks_coeffs[\"f4\"][\"c\"] * np.exp(-np.sum(list(map(lambda ai, pi: ai*(z - pi)**2, benchmarks_coeffs[\"f4\"][\"a\"], benchmarks_coeffs[\"f4\"][\"p\"])), axis=1))),\n",
        "            \"f5\": lambda z: -np.sum(list(map(lambda ai, ci: 1/((z - ai) @ (z - ai).T + ci), benchmarks_coeffs[\"f5\"][\"a\"], benchmarks_coeffs[\"f5\"][\"c\"])))\n",
        "        }\n",
        "        func_value = benchmarks.get(self.benchmark_selected)(x)\n",
        "        return func_value\n",
        "    \n",
        "    def initRandomSoln(self):\n",
        "        self.x = np.random.rand(self.n_x) * (self.ub - self.lb) + self.lb\n",
        "        assert(self.isFeasible(self.x))\n",
        "        self.fvalue = self.getFValue(self.x)\n",
        "    \n",
        "    def getNeighbourSoln(self):\n",
        "        r = np.random.rand(self.n_x)\n",
        "        x_new = self.x + r * (self.ub - self.x) + (1 - r) * (self.lb - self.x)\n",
        "        assert(self.isFeasible(x_new))\n",
        "        return x_new"
      ]
    },
    {
      "cell_type": "code",
      "execution_count": 38,
      "metadata": {},
      "outputs": [],
      "source": [
        "class SimulatedAnnealing:\n",
        "    def __init__(self, problem, max_iter = 100, init_temp = 100, final_temp = 1e-03, iter_per_temp = 5, cooling_schedule = \"linear\", beta = 5, alpha = 0.9):\n",
        "        self.problem = problem\n",
        "        self.max_iter = max_iter\n",
        "        self.init_temp = init_temp\n",
        "        self.final_temp = final_temp\n",
        "        self.iter_per_temp = iter_per_temp\n",
        "        self.cooling_schedule = cooling_schedule\n",
        "        self.beta = min(beta, (init_temp - final_temp)/max_iter)\n",
        "        self.alpha = alpha\n",
        "        self.curr_temp = None\n",
        "        self.sols = None\n",
        "        self.fvalues = None\n",
        "        self.best_sol = None\n",
        "        self.best_fvalue = None\n",
        "    \n",
        "    def cool_down_temp(self, curr_iter):\n",
        "        schedules = {\n",
        "            \"linear\": self.curr_temp - self.beta,\n",
        "            \"geometric\": self.curr_temp * self.alpha,\n",
        "            \"logarithmic\": self.curr_temp / 1 + np.log(curr_iter+1),\n",
        "            \"exponential\": self.curr_temp / (1 + self.beta*self.curr_temp),\n",
        "            \"hybrid\": (curr_iter/(curr_iter+1)) if curr_iter <= 0.5*self.max_iter else (self.init_temp*(self.alpha**curr_iter))\n",
        "        }\n",
        "        return schedules.get(self.cooling_schedule, schedules.get(\"linear\"))\n",
        "\n",
        "    def perform_algorithm(self):\n",
        "        self.problem.initRandomSoln()\n",
        "        self.curr_temp = self.init_temp\n",
        "        self.sols = [self.problem.x]\n",
        "        self.fvalues = [self.problem.fvalue]\n",
        "        self.best_sol = self.problem.x\n",
        "        self.best_fvalue = self.problem.fvalue\n",
        "        for iter in range(self.max_iter):\n",
        "            for _ in range(self.iter_per_temp):\n",
        "                sol_neighbour = self.problem.getNeighbourSoln()\n",
        "                fvalue_neighbour = self.problem.getFValue(sol_neighbour)\n",
        "                if fvalue_neighbour < self.fvalues[-1]:\n",
        "                    # neighbour is better and is accpeted\n",
        "                    self.sols.append(sol_neighbour)\n",
        "                    self.fvalues.append(fvalue_neighbour)\n",
        "                else:\n",
        "                    p = np.exp(-(fvalue_neighbour - self.fvalues[-1]) / self.curr_temp)\n",
        "                    if np.random.rand() < p:\n",
        "                        # neighbour is worse and is accepted according to probability\n",
        "                        self.sols.append(sol_neighbour)\n",
        "                        self.fvalues.append(fvalue_neighbour)\n",
        "                    else:\n",
        "                        # neighbour is worse and is rejected\n",
        "                        self.sols.append(self.sols[-1])\n",
        "                        self.fvalues.append(self.fvalues[-1])\n",
        "                # update best solution reached so far\n",
        "                if self.fvalues[-1] < self.best_fvalue:\n",
        "                    self.best_sol = self.sols[-1]\n",
        "                    self.best_fvalue = self.fvalues[-1]\n",
        "            # update temperature\n",
        "            self.curr_temp = self.cool_down_temp(iter)\n",
        "    \n",
        "    def visualize(self):\n",
        "        pass\n"
      ]
    },
    {
      "cell_type": "code",
      "execution_count": 40,
      "metadata": {},
      "outputs": [
        {
          "name": "stdout",
          "output_type": "stream",
          "text": [
            "[ 0.10518938 -0.72719021]\n",
            "-1.0291710664888196\n"
          ]
        }
      ],
      "source": [
        "problem = Function()\n",
        "problem.setBenchmarkFunction(f_name=\"f1\")\n",
        "SA = SimulatedAnnealing(problem, max_iter=500, init_temp=100, final_temp=1e-03, iter_per_temp=20, cooling_schedule=\"logarihmic\", alpha=0.9)\n",
        "SA.perform_algorithm()\n",
        "print(SA.best_sol)\n",
        "print(SA.best_fvalue)"
      ]
    },
    {
      "cell_type": "code",
      "execution_count": null,
      "metadata": {},
      "outputs": [],
      "source": []
    }
  ],
  "metadata": {
    "colab": {
      "authorship_tag": "ABX9TyPGta8AXl1kp1ySOcANFvNG",
      "include_colab_link": true,
      "name": "Untitled1.ipynb",
      "provenance": []
    },
    "interpreter": {
      "hash": "b1d939240b766aef2092da64588bd69cafb082a4ffd4348a62fde7819c1f03f5"
    },
    "kernelspec": {
      "display_name": "Python 3.8.10 64-bit",
      "name": "python3"
    },
    "language_info": {
      "codemirror_mode": {
        "name": "ipython",
        "version": 3
      },
      "file_extension": ".py",
      "mimetype": "text/x-python",
      "name": "python",
      "nbconvert_exporter": "python",
      "pygments_lexer": "ipython3",
      "version": "3.8.10"
    }
  },
  "nbformat": 4,
  "nbformat_minor": 0
}
