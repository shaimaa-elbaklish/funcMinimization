{
  "cells": [
    {
      "cell_type": "code",
      "execution_count": 1,
      "metadata": {
        "id": "PYJiN7auQkew"
      },
      "outputs": [],
      "source": [
        "import numpy as np"
      ]
    },
    {
      "cell_type": "code",
      "execution_count": 11,
      "metadata": {},
      "outputs": [],
      "source": [
        "class Function:\n",
        "    def __init__(self, x = None, n = 2, lb = np.array([-5, -5]), ub = np.array([5, 5])):\n",
        "        self.n_x = n\n",
        "        if x is not None:\n",
        "            assert(x.shape[0] == self.n_x)\n",
        "            self.fvalue = self.getFValue(x)\n",
        "        self.x = x\n",
        "        self.fvalue = None\n",
        "        assert(lb.shape[0] == self.n_x)\n",
        "        self.lb = lb\n",
        "        assert(ub.shape[0] == self.n_x)\n",
        "        self.ub = ub\n",
        "    \n",
        "    def isFeasible(self, x):\n",
        "        return np.all(x >= self.lb) and np.all(x <= self.ub)\n",
        "    \n",
        "    def getFValue(self, x):\n",
        "        func_value = 4*x[0]**2 - 2.1*x[0]**4 + (x[0]**6)/3 + x[0]*x[1] - 4*x[1]**2 + 4*x[1]**4\n",
        "        return func_value\n",
        "    \n",
        "    def initRandomSoln(self):\n",
        "        self.x = np.random.rand(self.n_x) * (self.ub - self.lb) + self.lb\n",
        "        assert(self.isFeasible(self.x))\n",
        "        self.fvalue = self.getFValue(self.x)\n",
        "    \n",
        "    def getNeighbourSoln(self):\n",
        "        r = np.random.rand(self.n_x)\n",
        "        x_new = self.x + r * (self.ub - self.x) + (1 - r) * (self.lb - self.x)\n",
        "        assert(self.isFeasible(x_new))\n",
        "        return x_new"
      ]
    },
    {
      "cell_type": "code",
      "execution_count": 22,
      "metadata": {},
      "outputs": [],
      "source": [
        "class SimulatedAnnealing:\n",
        "    def __init__(self, problem, max_iter = 100, init_temp = 100, final_temp = 1e-03, iter_per_temp = 5, cooling_schedule = \"linear\", beta = 5, alpha = 0.9):\n",
        "        self.problem = problem\n",
        "        self.max_iter = max_iter\n",
        "        self.init_temp = init_temp\n",
        "        self.final_temp = final_temp\n",
        "        self.iter_per_temp = iter_per_temp\n",
        "        self.cooling_schedule = cooling_schedule\n",
        "        self.beta = min(beta, (init_temp - final_temp)/max_iter)\n",
        "        self.alpha = alpha\n",
        "        self.curr_temp = None\n",
        "        self.sols = None\n",
        "        self.fvalues = None\n",
        "        self.best_sol = None\n",
        "        self.best_fvalue = None\n",
        "    \n",
        "    def cool_down_temp(self, curr_iter):\n",
        "        schedules = {\n",
        "            \"linear\": self.curr_temp - self.beta,\n",
        "            \"geometric\": self.curr_temp * self.alpha,\n",
        "            \"logarithmic\": self.curr_temp / np.log(curr_iter+1),\n",
        "            \"exponential\": self.curr_temp / (1 + self.beta*self.curr_temp),\n",
        "            \"hybrid\": (curr_iter/(curr_iter+1)) if curr_iter <= 0.5*self.max_iter else (self.init_temp*(self.alpha**curr_iter))\n",
        "        }\n",
        "        return schedules.get(self.cooling_schedule, schedules.get(\"linear\"))\n",
        "\n",
        "    def perform_algorithm(self):\n",
        "        self.problem.initRandomSoln()\n",
        "        self.curr_temp = self.init_temp\n",
        "        self.sols = [self.problem.x]\n",
        "        self.fvalues = [self.problem.fvalue]\n",
        "        self.best_sol = self.problem.x\n",
        "        self.best_fvalue = self.problem.fvalue\n",
        "        for iter in range(self.max_iter):\n",
        "            for _ in range(self.iter_per_temp):\n",
        "                sol_neighbour = self.problem.getNeighbourSoln()\n",
        "                fvalue_neighbour = self.problem.getFValue(sol_neighbour)\n",
        "                if fvalue_neighbour < self.fvalues[-1]:\n",
        "                    # neighbour is better and is accpeted\n",
        "                    self.sols.append(sol_neighbour)\n",
        "                    self.fvalues.append(fvalue_neighbour)\n",
        "                else:\n",
        "                    p = np.exp(-(fvalue_neighbour - self.fvalues[-1]) / self.curr_temp)\n",
        "                    if np.random.rand() < p:\n",
        "                        # neighbour is worse and is accepted according to probability\n",
        "                        self.sols.append(sol_neighbour)\n",
        "                        self.fvalues.append(fvalue_neighbour)\n",
        "                    else:\n",
        "                        # neighbour is worse and is rejected\n",
        "                        self.sols.append(self.sols[-1])\n",
        "                        self.fvalues.append(self.fvalues[-1])\n",
        "                # update best solution reached so far\n",
        "                if self.fvalues[-1] < self.best_fvalue:\n",
        "                    self.best_sol = self.sols[-1]\n",
        "                    self.best_fvalue = self.fvalues[-1]\n",
        "            # update temperature\n",
        "            self.curr_temp = self.cool_down_temp(iter)\n",
        "    \n",
        "    def visualize(self):\n",
        "        pass\n"
      ]
    },
    {
      "cell_type": "code",
      "execution_count": 26,
      "metadata": {},
      "outputs": [
        {
          "name": "stdout",
          "output_type": "stream",
          "text": [
            "[-0.14668465  0.72586298]\n",
            "-1.018486790432261\n"
          ]
        },
        {
          "name": "stderr",
          "output_type": "stream",
          "text": [
            "C:\\Users\\shaim\\AppData\\Local\\Temp/ipykernel_7100/1154490701.py:21: RuntimeWarning: divide by zero encountered in double_scalars\n",
            "  \"logarithmic\": self.curr_temp / np.log(curr_iter+1),\n",
            "C:\\Users\\shaim\\AppData\\Local\\Temp/ipykernel_7100/1154490701.py:43: RuntimeWarning: divide by zero encountered in double_scalars\n",
            "  p = np.exp(-(fvalue_neighbour - self.fvalues[-1]) / self.curr_temp)\n"
          ]
        }
      ],
      "source": [
        "problem = Function()\n",
        "SA = SimulatedAnnealing(problem, max_iter=200, init_temp=100, final_temp=1e-03, iter_per_temp=10, cooling_schedule=\"hybrid\", alpha=0.85)\n",
        "SA.perform_algorithm()\n",
        "print(SA.best_sol)\n",
        "print(SA.best_fvalue)"
      ]
    }
  ],
  "metadata": {
    "colab": {
      "authorship_tag": "ABX9TyPGta8AXl1kp1ySOcANFvNG",
      "include_colab_link": true,
      "name": "Untitled1.ipynb",
      "provenance": []
    },
    "interpreter": {
      "hash": "b1d939240b766aef2092da64588bd69cafb082a4ffd4348a62fde7819c1f03f5"
    },
    "kernelspec": {
      "display_name": "Python 3.8.10 64-bit",
      "name": "python3"
    },
    "language_info": {
      "codemirror_mode": {
        "name": "ipython",
        "version": 3
      },
      "file_extension": ".py",
      "mimetype": "text/x-python",
      "name": "python",
      "nbconvert_exporter": "python",
      "pygments_lexer": "ipython3",
      "version": "3.8.10"
    }
  },
  "nbformat": 4,
  "nbformat_minor": 0
}
